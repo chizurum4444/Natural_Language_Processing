{
 "cells": [
  {
   "attachments": {},
   "cell_type": "markdown",
   "id": "07c37879-4f14-48ef-9946-7b052acd50b3",
   "metadata": {
    "editable": false
   },
   "source": [
    "# Part 2\n",
    "\n",
    "## This is a neural network that will perform text classification on our pre-processed data"
   ]
  },
  {
   "cell_type": "code",
   "execution_count": 1,
   "id": "cb7088f5-1b43-4896-b27a-7c24e66e1cc7",
   "metadata": {
    "editable": false
   },
   "outputs": [],
   "source": [
    "import torch\n",
    "from torch import (nn, optim)\n",
    "from torch.utils.data import (Dataset, DataLoader, random_split)\n",
    "from torchsummaryX import summary\n",
    "import pandas as pd\n",
    "import numpy as np\n",
    "import warnings\n",
    "import test_lib\n",
    "from importlib import reload\n",
    "from torch.nn import functional as F\n",
    "from torchmetrics import Accuracy\n",
    "import time\n",
    "reload(test_lib)\n",
    "warnings.filterwarnings('ignore')"
   ]
  },
  {
   "attachments": {},
   "cell_type": "markdown",
   "id": "cbd18a40-2b01-43c3-9a1f-20e51a8e2acc",
   "metadata": {
    "editable": false
   },
   "source": [
    "## Load the dataset"
   ]
  },
  {
   "cell_type": "code",
   "execution_count": 2,
   "id": "568c9ecd-c4b0-47cc-aed9-748ef2595ae2",
   "metadata": {
    "editable": false
   },
   "outputs": [
    {
     "name": "stdout",
     "output_type": "stream",
     "text": [
      "Training dataset: 20000\n",
      "Test dataset: 5000\n"
     ]
    }
   ],
   "source": [
    "train_dataset = torch.load('./train_dataset.npz')\n",
    "test_dataset = torch.load('./test_dataset.npz')\n",
    "\n",
    "print(\"Training dataset: %d\" % len(train_dataset))\n",
    "print(\"Test dataset: %d\" % len(test_dataset))"
   ]
  },
  {
   "attachments": {},
   "cell_type": "markdown",
   "id": "49a3319b-689b-4c45-8964-e5f3a809c0c4",
   "metadata": {
    "editable": false
   },
   "source": [
    "## Load the vocabulary"
   ]
  },
  {
   "cell_type": "code",
   "execution_count": 3,
   "id": "262a7f51-b7b6-44c9-b0c4-c273dba4dd97",
   "metadata": {
    "editable": false
   },
   "outputs": [
    {
     "name": "stdout",
     "output_type": "stream",
     "text": [
      "There are 2000 tokens in vocabulary.\n"
     ]
    }
   ],
   "source": [
    "vocab = torch.load('./vocab.pt')\n",
    "print(\"There are %d tokens in vocabulary.\" % len(vocab))"
   ]
  },
  {
   "cell_type": "markdown",
   "id": "59a71f15-84e6-4f97-b652-2814c9ef708f",
   "metadata": {
    "editable": false
   },
   "source": [
    "## Check data"
   ]
  },
  {
   "cell_type": "code",
   "execution_count": 4,
   "id": "266639d3-25c6-4e48-968f-bde8d880572d",
   "metadata": {
    "editable": false
   },
   "outputs": [
    {
     "name": "stdout",
     "output_type": "stream",
     "text": [
      "Review: i <unk> this movie despite its extremely low rating because i wanted to see how the crew manages to <unk> the presence of <unk> <unk> . as a matter of fact they didn t at least so its seems . some cameo appearance cut rather <unk> into the movie that s it this is what the <unk> of viewers think . however the surprise comes at the end and unfortunately then when probably most of the viewers have already <unk> this movie . i was also <unk> when i saw that the <unk> <unk> title of this movie means <unk>\n",
      "Label: 1\n"
     ]
    }
   ],
   "source": [
    "x, y = train_dataset[128]\n",
    "print(\"Review:\", \" \".join(vocab.lookup_tokens(x.numpy().tolist())))\n",
    "print(\"Label:\", y.item())"
   ]
  },
  {
   "attachments": {},
   "cell_type": "markdown",
   "id": "53e1709b-864c-4a3a-8d99-749575694d86",
   "metadata": {
    "editable": false
   },
   "source": [
    "## Model"
   ]
  },
  {
   "cell_type": "code",
   "execution_count": 5,
   "id": "4bc17684",
   "metadata": {},
   "outputs": [],
   "source": [
    "class MyModel(nn.Module):\n",
    "    def __init__(self):\n",
    "        super().__init__()\n",
    "        self.embedding = nn.Embedding(num_embeddings=len(vocab), embedding_dim=128)\n",
    "        self.lstm = nn.LSTM(input_size=128, hidden_size=128, num_layers=2, bidirectional=True, batch_first=True)\n",
    "        self.dropout = nn.Dropout(0.4)\n",
    "        self.mlp = nn.Sequential(\n",
    "            nn.Linear(128, 64),\n",
    "            nn.ReLU(),\n",
    "            nn.Linear(64, 32),\n",
    "            nn.ReLU()\n",
    "        )\n",
    "      \n",
    "        self.linear = nn.Linear(32,2)\n",
    "        self.sigmoid = nn.Sigmoid()\n",
    "\n",
    "    def forward(self, x):\n",
    "        x = self.embedding(x)\n",
    "        x, (h, c) = self.lstm(x)\n",
    "        x = self.dropout(c[0])\n",
    "        x = self.mlp(x)\n",
    "        x = self.linear(x)\n",
    "        x = self.sigmoid(x)\n",
    "        return x"
   ]
  },
  {
   "cell_type": "code",
   "execution_count": 6,
   "id": "f44b82cd-984f-4eed-a08a-f3b090aad4c0",
   "metadata": {
    "editable": false
   },
   "outputs": [
    {
     "data": {
      "text/plain": [
       "torch.Size([128, 2])"
      ]
     },
     "execution_count": 6,
     "metadata": {},
     "output_type": "execute_result"
    }
   ],
   "source": [
    "model = MyModel()\n",
    "dataloader = DataLoader(train_dataset, batch_size=128, shuffle=True)\n",
    "xs, targets = next(iter(dataloader))\n",
    "model(xs).shape"
   ]
  },
  {
   "attachments": {},
   "cell_type": "markdown",
   "id": "056ca003-ae0e-477e-9cc4-86934eae6e97",
   "metadata": {
    "editable": false
   },
   "source": [
    "## Training"
   ]
  },
  {
   "cell_type": "code",
   "execution_count": 7,
   "id": "54636d06",
   "metadata": {},
   "outputs": [],
   "source": [
    "def train(model: MyModel,\n",
    "          train_dataset: Dataset,\n",
    "          epochs: int, \n",
    "          max_batches=None) -> pd.DataFrame:\n",
    "    \n",
    "    train_loader = DataLoader(train_dataset, batch_size=max_batches, shuffle=True)\n",
    "    accuracy = Accuracy(task='binary', num_classes=2)\n",
    "    optimizer = torch.optim.Adam(model.parameters(), lr=0.001)\n",
    "    loss_fn = torch.nn.CrossEntropyLoss() \n",
    "    history = {\n",
    "        'train_loss': [],\n",
    "        'train_acc': [],\n",
    "    }\n",
    "    \n",
    "    for epoch in range(epochs):\n",
    "        model.train()\n",
    "        train_loss = 0.0\n",
    "        train_acc = 0.0\n",
    "        \n",
    "        start_time = time.time()\n",
    "        \n",
    "        for i, (inputs, targets) in enumerate(train_loader):\n",
    "            optimizer.zero_grad()\n",
    "            outputs = model(inputs)\n",
    "            batch_loss = loss_fn(outputs, targets)\n",
    "            batch_loss.backward()\n",
    "            optimizer.step()\n",
    "            \n",
    "            train_loss += batch_loss.item()\n",
    "            train_acc += accuracy(outputs.argmax(dim=1), targets).item()\n",
    "        \n",
    "        train_loss /= len(train_loader)\n",
    "        train_acc /= len(train_loader)\n",
    "        \n",
    "        history['train_loss'].append(train_loss)\n",
    "        history['train_acc'].append(train_acc)\n",
    "        \n",
    "        end_time = time.time() \n",
    "        elapsed_time = end_time - start_time \n",
    "        \n",
    "        print(f'Epoch {epoch+1}/{epochs} - ' f'Loss: {train_loss:.4f}, ' f'Accuracy: {train_acc:.4f}, ' f'Time: {elapsed_time:.2f}s')\n",
    "    \n",
    "    return pd.DataFrame(history)\n",
    "\n",
    "\n",
    "    "
   ]
  },
  {
   "cell_type": "code",
   "execution_count": 8,
   "id": "d28baf03",
   "metadata": {},
   "outputs": [
    {
     "name": "stdout",
     "output_type": "stream",
     "text": [
      "Epoch 1/20 - Loss: 0.6924, Accuracy: 0.5148, Time: 102.74s\n",
      "Epoch 2/20 - Loss: 0.6876, Accuracy: 0.5478, Time: 113.43s\n",
      "Epoch 3/20 - Loss: 0.6914, Accuracy: 0.5208, Time: 91.94s\n",
      "Epoch 4/20 - Loss: 0.6907, Accuracy: 0.5293, Time: 92.11s\n",
      "Epoch 5/20 - Loss: 0.6903, Accuracy: 0.5311, Time: 91.95s\n",
      "Epoch 6/20 - Loss: 0.6885, Accuracy: 0.5400, Time: 97.31s\n",
      "Epoch 7/20 - Loss: 0.6869, Accuracy: 0.5440, Time: 95.59s\n",
      "Epoch 8/20 - Loss: 0.6712, Accuracy: 0.5851, Time: 90.94s\n",
      "Epoch 9/20 - Loss: 0.6405, Accuracy: 0.6431, Time: 92.25s\n",
      "Epoch 10/20 - Loss: 0.5942, Accuracy: 0.7023, Time: 95.08s\n",
      "Epoch 11/20 - Loss: 0.5653, Accuracy: 0.7329, Time: 91.24s\n",
      "Epoch 12/20 - Loss: 0.5403, Accuracy: 0.7669, Time: 91.81s\n",
      "Epoch 13/20 - Loss: 0.5203, Accuracy: 0.7856, Time: 92.17s\n",
      "Epoch 14/20 - Loss: 0.5101, Accuracy: 0.7965, Time: 91.34s\n",
      "Epoch 15/20 - Loss: 0.4940, Accuracy: 0.8146, Time: 100.36s\n",
      "Epoch 16/20 - Loss: 0.4876, Accuracy: 0.8208, Time: 90.92s\n",
      "Epoch 17/20 - Loss: 0.4853, Accuracy: 0.8237, Time: 93.22s\n",
      "Epoch 18/20 - Loss: 0.4746, Accuracy: 0.8356, Time: 91.90s\n",
      "Epoch 19/20 - Loss: 0.4728, Accuracy: 0.8360, Time: 91.90s\n",
      "Epoch 20/20 - Loss: 0.4600, Accuracy: 0.8514, Time: 92.94s\n"
     ]
    }
   ],
   "source": [
    "# Train the model\n",
    "\n",
    "model = MyModel()\n",
    "hist = train(model, train_dataset, epochs=20, max_batches=500)"
   ]
  },
  {
   "cell_type": "code",
   "execution_count": 9,
   "id": "e2c52b93-0fe5-4a9b-a2bd-fe6ec72403d5",
   "metadata": {
    "editable": false
   },
   "outputs": [
    {
     "data": {
      "text/plain": [
       "Index(['train_loss', 'train_acc'], dtype='object')"
      ]
     },
     "execution_count": 9,
     "metadata": {},
     "output_type": "execute_result"
    }
   ],
   "source": [
    "# Verify dataframe columns\n",
    "\n",
    "hist.columns"
   ]
  },
  {
   "cell_type": "code",
   "execution_count": 10,
   "id": "d7ce09d9-fee9-43a3-affd-2a49e42a3718",
   "metadata": {
    "editable": false
   },
   "outputs": [
    {
     "data": {
      "image/png": "[encoded data removed]",
      "text/plain": [
       "<Figure size 432x288 with 1 Axes>"
      ]
     },
     "metadata": {
      "needs_background": "light"
     },
     "output_type": "display_data"
    }
   ],
   "source": [
    "# Plot the training accuracy\n",
    "\n",
    "hist.train_acc.plot.line();"
   ]
  },
  {
   "cell_type": "code",
   "execution_count": 11,
   "id": "9e5e4bef-1342-46ef-992a-2989c35872c4",
   "metadata": {
    "editable": false
   },
   "outputs": [],
   "source": [
    "# Save the entire model to disk\n",
    "\n",
    "torch.save(model, 'mymodel.pt')"
   ]
  },
  {
   "attachments": {},
   "cell_type": "markdown",
   "id": "75560127-a85e-4bef-89ec-ae8f30b9290e",
   "metadata": {
    "editable": false
   },
   "source": [
    "## Testing\n",
    "\n",
    "The following code evaluates the model using `test_dataset`."
   ]
  },
  {
   "cell_type": "code",
   "execution_count": 12,
   "id": "928c21ce-e239-41a1-b502-d46fea58bded",
   "metadata": {
    "editable": false
   },
   "outputs": [
    {
     "name": "stdout",
     "output_type": "stream",
     "text": [
      "Saved model has test accuracy = 78.70\n"
     ]
    }
   ],
   "source": [
    "# Testing current model in memory\n",
    "\n",
    "test_lib.test_saved_model(model)"
   ]
  },
  {
   "cell_type": "code",
   "execution_count": 13,
   "id": "749afd4f-ac4f-4910-82c5-029b80e8c8b0",
   "metadata": {
    "editable": false
   },
   "outputs": [
    {
     "name": "stdout",
     "output_type": "stream",
     "text": [
      "Loading from mymodel.pt\n",
      "Saved model has test accuracy = 78.46\n"
     ]
    }
   ],
   "source": [
    "# Testing saved model on disk\n",
    "\n",
    "test_lib.test_saved_model()"
   ]
  },
  {
   "attachments": {},
   "cell_type": "markdown",
   "id": "849bea88",
   "metadata": {},
   "source": [
    "# This model has an accuracy of approximately 79%"
   ]
  }
 ],
 "metadata": {
  "kernelspec": {
   "display_name": "Python 3 (ipykernel)",
   "language": "python",
   "name": "python3"
  },
  "language_info": {
   "codemirror_mode": {
    "name": "ipython",
    "version": 3
   },
   "file_extension": ".py",
   "mimetype": "text/x-python",
   "name": "python",
   "nbconvert_exporter": "python",
   "pygments_lexer": "ipython3",
   "version": "3.9.12"
  }
 },
 "nbformat": 4,
 "nbformat_minor": 5
}
